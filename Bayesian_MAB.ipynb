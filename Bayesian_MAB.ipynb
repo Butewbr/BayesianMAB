{
 "cells": [
  {
   "cell_type": "markdown",
   "metadata": {},
   "source": [
    "# Aplicação de Bayesian Changepoint Detection em Sistemas auto adaptativos\n",
    "Bernardo Pandolfi Costa (19207646)"
   ]
  },
  {
   "cell_type": "code",
   "execution_count": 1,
   "metadata": {},
   "outputs": [
    {
     "ename": "ImportError",
     "evalue": "cannot import name 'comb' from 'scipy.misc' (c:\\Users\\butew\\anaconda3\\lib\\site-packages\\scipy\\misc\\__init__.py)",
     "output_type": "error",
     "traceback": [
      "\u001b[1;31m---------------------------------------------------------------------------\u001b[0m",
      "\u001b[1;31mImportError\u001b[0m                               Traceback (most recent call last)",
      "Input \u001b[1;32mIn [1]\u001b[0m, in \u001b[0;36m<cell line: 3>\u001b[1;34m()\u001b[0m\n\u001b[0;32m      1\u001b[0m \u001b[38;5;28;01mfrom\u001b[39;00m \u001b[38;5;21;01m__future__\u001b[39;00m \u001b[38;5;28;01mimport\u001b[39;00m division\n\u001b[0;32m      2\u001b[0m \u001b[38;5;28;01mimport\u001b[39;00m \u001b[38;5;21;01mnumpy\u001b[39;00m \u001b[38;5;28;01mas\u001b[39;00m \u001b[38;5;21;01mnp\u001b[39;00m\n\u001b[1;32m----> 3\u001b[0m \u001b[38;5;28;01mimport\u001b[39;00m \u001b[38;5;21;01mbayesian_changepoint_detection\u001b[39;00m\u001b[38;5;21;01m.\u001b[39;00m\u001b[38;5;21;01moffline_changepoint_detection\u001b[39;00m \u001b[38;5;28;01mas\u001b[39;00m \u001b[38;5;21;01moffcd\u001b[39;00m\n\u001b[0;32m      4\u001b[0m \u001b[38;5;28;01mfrom\u001b[39;00m \u001b[38;5;21;01mfunctools\u001b[39;00m \u001b[38;5;28;01mimport\u001b[39;00m partial\n\u001b[0;32m      5\u001b[0m \u001b[38;5;28;01mimport\u001b[39;00m \u001b[38;5;21;01mmatplotlib\u001b[39;00m\u001b[38;5;21;01m.\u001b[39;00m\u001b[38;5;21;01mpyplot\u001b[39;00m \u001b[38;5;28;01mas\u001b[39;00m \u001b[38;5;21;01mplt\u001b[39;00m\n",
      "File \u001b[1;32mc:\\Users\\butew\\anaconda3\\lib\\site-packages\\bayesian_changepoint_detection\\offline_changepoint_detection.py:4\u001b[0m, in \u001b[0;36m<module>\u001b[1;34m\u001b[0m\n\u001b[0;32m      2\u001b[0m \u001b[38;5;28;01mimport\u001b[39;00m \u001b[38;5;21;01mnumpy\u001b[39;00m \u001b[38;5;28;01mas\u001b[39;00m \u001b[38;5;21;01mnp\u001b[39;00m\n\u001b[0;32m      3\u001b[0m \u001b[38;5;28;01mfrom\u001b[39;00m \u001b[38;5;21;01mscipy\u001b[39;00m\u001b[38;5;21;01m.\u001b[39;00m\u001b[38;5;21;01mspecial\u001b[39;00m \u001b[38;5;28;01mimport\u001b[39;00m gammaln, multigammaln\n\u001b[1;32m----> 4\u001b[0m \u001b[38;5;28;01mfrom\u001b[39;00m \u001b[38;5;21;01mscipy\u001b[39;00m\u001b[38;5;21;01m.\u001b[39;00m\u001b[38;5;21;01mmisc\u001b[39;00m \u001b[38;5;28;01mimport\u001b[39;00m comb\n\u001b[0;32m      5\u001b[0m \u001b[38;5;28;01mfrom\u001b[39;00m \u001b[38;5;21;01mdecorator\u001b[39;00m \u001b[38;5;28;01mimport\u001b[39;00m decorator\n\u001b[0;32m      7\u001b[0m \u001b[38;5;66;03m# This makes the code compatible with Python 3\u001b[39;00m\n\u001b[0;32m      8\u001b[0m \u001b[38;5;66;03m# without causing performance hits on Python 2\u001b[39;00m\n",
      "\u001b[1;31mImportError\u001b[0m: cannot import name 'comb' from 'scipy.misc' (c:\\Users\\butew\\anaconda3\\lib\\site-packages\\scipy\\misc\\__init__.py)"
     ]
    }
   ],
   "source": [
    "from __future__ import division\n",
    "import numpy as np\n",
    "import bayesian_changepoint_detection.offline_changepoint_detection as offcd\n",
    "from functools import partial\n",
    "import matplotlib.pyplot as plt\n",
    "\n",
    "import pandas as pd\n",
    "\n",
    "combined_df = pd.read_csv('./combined_file.csv')\n",
    "combined_36df = pd.read_csv('./combined_36file.csv')\n",
    "\n",
    "# Filter rows where 'Series' is 'Current Action Time'\n",
    "filtered_df = combined_df[combined_df['Series'] == 'Current Action Time']\n",
    "\n",
    "# Extract the 'Average Time (ms)' as the signal for changepoint detection\n",
    "signal_data = filtered_df['Average Time (ms)'].values\n",
    "\n",
    "# Apply Bayesian changepoint detection\n",
    "Q, P, Pcp = offcd.offline_changepoint_detection(\n",
    "    signal_data,\n",
    "    partial(offcd.const_prior, l=(len(signal_data) + 1)),\n",
    "    offcd.gaussian_obs_log_likelihood,\n",
    "    truncate=-40  # Truncate to improve computational efficiency\n",
    ")\n",
    "\n",
    "# Extract the changepoints based on a threshold\n",
    "changepoints = np.where(Pcp > 0.5)[0]  # You can adjust the threshold\n",
    "\n",
    "# Display the changepoints\n",
    "print(\"Detected changepoints at indices:\", changepoints)\n",
    "\n",
    "# Plot the results\n",
    "plt.plot(signal_data, label='Current Action Average Time')\n",
    "for cp in changepoints:\n",
    "    plt.axvline(cp, color='r', linestyle='--', label=f'Changepoint {cp}')\n",
    "plt.legend()\n",
    "plt.show()"
   ]
  }
 ],
 "metadata": {
  "kernelspec": {
   "display_name": "base",
   "language": "python",
   "name": "python3"
  },
  "language_info": {
   "codemirror_mode": {
    "name": "ipython",
    "version": 3
   },
   "file_extension": ".py",
   "mimetype": "text/x-python",
   "name": "python",
   "nbconvert_exporter": "python",
   "pygments_lexer": "ipython3",
   "version": "3.9.12"
  }
 },
 "nbformat": 4,
 "nbformat_minor": 2
}
