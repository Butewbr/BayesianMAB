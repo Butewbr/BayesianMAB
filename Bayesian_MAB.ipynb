{
 "cells": [
  {
   "cell_type": "markdown",
   "metadata": {},
   "source": [
    "# Aplicação de Bayesian Changepoint Detection em Sistemas auto adaptativos\n",
    "Bernardo Pandolfi Costa (19207646)"
   ]
  },
  {
   "cell_type": "code",
   "execution_count": null,
   "metadata": {},
   "outputs": [
    {
     "ename": "",
     "evalue": "",
     "output_type": "error",
     "traceback": [
      "\u001b[1;31m'Python 3.11.4'(으)로 셀을 실행하려면 ipykernel 패키지가 필요합니다.\n",
      "\u001b[1;31m다음 명령어를 실행하여 Python 환경에 'ipykernel'을(를) 설치합니다. \n",
      "\u001b[1;31m 명령: '/usr/bin/python3 -m pip install ipykernel -U --user --force-reinstall'"
     ]
    }
   ],
   "source": [
    "from __future__ import division\n",
    "import numpy as np\n",
    "import matplotlib.pyplot as plt\n",
    "import seaborn\n",
    "\n",
    "import pandas as pd\n",
    "\n",
    "# Load each CSV file into a DataFrame\n",
    "df1 = pd.read_csv('/data/local 2 itens.csv')\n",
    "df2 = pd.read_csv('/data/propagate 2 itens.csv')\n",
    "df3 = pd.read_csv('/data/alternate 2 itens.csv')\n",
    "df4 = pd.read_csv('/data/sharding 2 itens.csv')\n",
    "\n",
    "# Concatenate the DataFrames vertically (one after another)\n",
    "combined_df = pd.concat([df1, df2, df3, df4], ignore_index=True)\n",
    "\n",
    "# Optionally, save the combined DataFrame to a new CSV file\n",
    "combined_df.to_csv('combined_file.csv', index=False)\n",
    "\n",
    "# Display the resulting DataFrame\n",
    "print(combined_df)\n"
   ]
  }
 ],
 "metadata": {
  "kernelspec": {
   "display_name": "Python 3",
   "language": "python",
   "name": "python3"
  },
  "language_info": {
   "name": "python",
   "version": "3.11.4"
  }
 },
 "nbformat": 4,
 "nbformat_minor": 2
}
